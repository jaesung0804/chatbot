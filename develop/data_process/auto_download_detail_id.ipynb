{
 "cells": [
  {
   "cell_type": "code",
   "execution_count": 1,
   "metadata": {},
   "outputs": [],
   "source": [
    "from selenium import webdriver\n",
    "from time import sleep\n",
    "from bs4 import BeautifulSoup\n",
    "import os\n",
    "\n",
    "file_path = 'C:/Users/user/Downloads'  # 다운로드 받을 곳. 이 폴더는 비워놓고 시작하는게 좋음.\n",
    "driver = webdriver.Chrome() # 괄호 안에 '크롬 웹 드라이버 위치' 넣어주기"
   ]
  },
  {
   "cell_type": "code",
   "execution_count": 2,
   "metadata": {},
   "outputs": [],
   "source": [
    "# 크롬 웹 드라이버는 자기 크롬 버전에 맞는 것 다운 받기. 크롬 -> 설정 -> 메뉴 맨 밑 크롬 정보 에서 버전 확인 가능\n",
    "# 괄호 안에 위치 넣어 줄 때 (드라이버 속해있는 폴더 경로)/chromedriver.exe 까지 넣기\n",
    "driver.implicitly_wait(5)\n",
    "\n",
    "# 관광지별 대시보드 페이지\n",
    "driver.get('https://datalab.visitkorea.or.kr/datalab/portal/loc/getTourDataForm.do')\n",
    "\n",
    "# 로그인\n",
    "sleep(0.5)\n",
    "driver.find_element_by_css_selector('#wrap > header > div.util-wrap > div > div.member > a.btn_login.border-right').click()\n",
    "sleep(0.5)\n",
    "driver.find_element_by_css_selector('#mbrId').send_keys('wnstjq1254@naver.com')\n",
    "sleep(0.5)\n",
    "driver.find_element_by_css_selector('#mbrPw').send_keys('wnstjq12!')\n",
    "sleep(0.5)\n",
    "driver.find_element_by_css_selector('#content > div > div > input.table-btn.floatright.btn').click()\n",
    "\n",
    "sleep(0.5)\n",
    "driver.find_element_by_css_selector('#listView').click()  # 목록으로 보기 버튼"
   ]
  },
  {
   "cell_type": "code",
   "execution_count": 3,
   "metadata": {},
   "outputs": [],
   "source": [
    "res = {}\n",
    "for times in range(25):  # 장에 대한 반복문(10페이지씩 10장)\n",
    "    sleep(1.5)\n",
    "    for i in range(10):  # 페이지에 대한 반복문(10페이지 보고 다음 10페이지 반복)\n",
    "        sleep(1.5)\n",
    "        for j in range(10):  # 목록에 띄워진 10개의 여행지에 대한 반복문\n",
    "            # 목록에 띄워진 여행지들 순서대로 클릭\n",
    "            dest = driver.find_element_by_css_selector(f'#tabCon2 > ul > li:nth-child({j+1}) > div:nth-child(1) > a')\n",
    "            id = dest.get_attribute(\"href\").split('=')[-1]\n",
    "            dest = dest.get_attribute(\"innerText\")\n",
    "            res.setdefault(dest, 0)\n",
    "            res[dest] = id\n",
    "        if i != 9:\n",
    "            # 다음 페이지로 옮기기\n",
    "            driver.find_element_by_css_selector(f'#tabCon2 > div.paging.mt55 > a:nth-child({i+4})').click()\n",
    "        elif i == 9:\n",
    "            # 만약 10페이지라면 다음 장으로 옮기기\n",
    "            driver.find_element_by_css_selector('#tabCon2 > div.paging.mt55 > a.table-forward').click()\n",
    "    res, len(res)"
   ]
  },
  {
   "cell_type": "code",
   "execution_count": 16,
   "metadata": {},
   "outputs": [
    {
     "data": {
      "text/html": [
       "<div>\n",
       "<style scoped>\n",
       "    .dataframe tbody tr th:only-of-type {\n",
       "        vertical-align: middle;\n",
       "    }\n",
       "\n",
       "    .dataframe tbody tr th {\n",
       "        vertical-align: top;\n",
       "    }\n",
       "\n",
       "    .dataframe thead th {\n",
       "        text-align: right;\n",
       "    }\n",
       "</style>\n",
       "<table border=\"1\" class=\"dataframe\">\n",
       "  <thead>\n",
       "    <tr style=\"text-align: right;\">\n",
       "      <th></th>\n",
       "      <th>destination</th>\n",
       "      <th>id</th>\n",
       "    </tr>\n",
       "  </thead>\n",
       "  <tbody>\n",
       "    <tr>\n",
       "      <th>0</th>\n",
       "      <td>덕포해수욕장</td>\n",
       "      <td>127939</td>\n",
       "    </tr>\n",
       "    <tr>\n",
       "      <th>1</th>\n",
       "      <td>백천사(사천)</td>\n",
       "      <td>127796</td>\n",
       "    </tr>\n",
       "    <tr>\n",
       "      <th>2</th>\n",
       "      <td>달실마을</td>\n",
       "      <td>127035</td>\n",
       "    </tr>\n",
       "    <tr>\n",
       "      <th>3</th>\n",
       "      <td>설악워터피아</td>\n",
       "      <td>126714</td>\n",
       "    </tr>\n",
       "    <tr>\n",
       "      <th>4</th>\n",
       "      <td>이호테우해변</td>\n",
       "      <td>126448</td>\n",
       "    </tr>\n",
       "    <tr>\n",
       "      <th>...</th>\n",
       "      <td>...</td>\n",
       "      <td>...</td>\n",
       "    </tr>\n",
       "    <tr>\n",
       "      <th>2492</th>\n",
       "      <td>연미사(안동)</td>\n",
       "      <td>337501</td>\n",
       "    </tr>\n",
       "    <tr>\n",
       "      <th>2493</th>\n",
       "      <td>광덕사</td>\n",
       "      <td>298084</td>\n",
       "    </tr>\n",
       "    <tr>\n",
       "      <th>2494</th>\n",
       "      <td>익산교도소세트장</td>\n",
       "      <td>2594360</td>\n",
       "    </tr>\n",
       "    <tr>\n",
       "      <th>2495</th>\n",
       "      <td>양양지(위양못)</td>\n",
       "      <td>2545984</td>\n",
       "    </tr>\n",
       "    <tr>\n",
       "      <th>2496</th>\n",
       "      <td>자연아놀자 체험학습박물관</td>\n",
       "      <td>2398333</td>\n",
       "    </tr>\n",
       "  </tbody>\n",
       "</table>\n",
       "<p>2497 rows × 2 columns</p>\n",
       "</div>"
      ],
      "text/plain": [
       "        destination       id\n",
       "0            덕포해수욕장   127939\n",
       "1           백천사(사천)   127796\n",
       "2              달실마을   127035\n",
       "3            설악워터피아   126714\n",
       "4            이호테우해변   126448\n",
       "...             ...      ...\n",
       "2492        연미사(안동)   337501\n",
       "2493            광덕사   298084\n",
       "2494       익산교도소세트장  2594360\n",
       "2495       양양지(위양못)  2545984\n",
       "2496  자연아놀자 체험학습박물관  2398333\n",
       "\n",
       "[2497 rows x 2 columns]"
      ]
     },
     "execution_count": 16,
     "metadata": {},
     "output_type": "execute_result"
    }
   ],
   "source": [
    "import pandas as pd\n",
    "df = pd.DataFrame(res, index=[0]).T.reset_index(drop=False)\n",
    "df.columns = (\"destination\", \"id\")\n",
    "df"
   ]
  },
  {
   "cell_type": "code",
   "execution_count": 17,
   "metadata": {},
   "outputs": [],
   "source": [
    "df.to_csv(\"output/dest_id.csv\", index=False)"
   ]
  },
  {
   "cell_type": "code",
   "execution_count": null,
   "metadata": {},
   "outputs": [],
   "source": []
  }
 ],
 "metadata": {
  "kernelspec": {
   "display_name": "Python 3.10.4 ('kcw')",
   "language": "python",
   "name": "python3"
  },
  "language_info": {
   "codemirror_mode": {
    "name": "ipython",
    "version": 3
   },
   "file_extension": ".py",
   "mimetype": "text/x-python",
   "name": "python",
   "nbconvert_exporter": "python",
   "pygments_lexer": "ipython3",
   "version": "3.10.4"
  },
  "orig_nbformat": 4,
  "vscode": {
   "interpreter": {
    "hash": "ff03da73fdb925b7ead87efd6025f03aa3d83597b98b999789e04333f0946b01"
   }
  }
 },
 "nbformat": 4,
 "nbformat_minor": 2
}
