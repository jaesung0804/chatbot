{
 "cells": [
  {
   "cell_type": "code",
   "execution_count": 1,
   "metadata": {},
   "outputs": [],
   "source": [
    "from selenium import webdriver\n",
    "from time import sleep\n",
    "from bs4 import BeautifulSoup\n",
    "import os\n",
    "\n",
    "file_path = 'C:/Users/user/Downloads'  # 다운로드 받을 곳. 이 폴더는 비워놓고 시작하는게 좋음.\n",
    "driver = webdriver.Chrome() # 괄호 안에 '크롬 웹 드라이버 위치' 넣어주기"
   ]
  },
  {
   "cell_type": "code",
   "execution_count": 2,
   "metadata": {},
   "outputs": [],
   "source": [
    "# 크롬 웹 드라이버는 자기 크롬 버전에 맞는 것 다운 받기. 크롬 -> 설정 -> 메뉴 맨 밑 크롬 정보 에서 버전 확인 가능\n",
    "# 괄호 안에 위치 넣어 줄 때 (드라이버 속해있는 폴더 경로)/chromedriver.exe 까지 넣기\n",
    "driver.implicitly_wait(5)\n",
    "\n",
    "# 관광지별 대시보드 페이지\n",
    "driver.get('https://datalab.visitkorea.or.kr/datalab/portal/loc/getTourDataForm.do')\n",
    "\n",
    "# 로그인\n",
    "sleep(0.5)\n",
    "driver.find_element_by_css_selector('#wrap > header > div.util-wrap > div > div.member > a.btn_login.border-right').click()\n",
    "sleep(0.5)\n",
    "driver.find_element_by_css_selector('#mbrId').send_keys('wnstjq1254@naver.com')\n",
    "sleep(0.5)\n",
    "driver.find_element_by_css_selector('#mbrPw').send_keys('wnstjq12!')\n",
    "sleep(0.5)\n",
    "driver.find_element_by_css_selector('#content > div > div > input.table-btn.floatright.btn').click()\n",
    "\n",
    "sleep(0.5)\n",
    "driver.find_element_by_css_selector('#listView').click()  # 목록으로 보기 버튼"
   ]
  },
  {
   "cell_type": "code",
   "execution_count": 3,
   "metadata": {},
   "outputs": [
    {
     "ename": "NoSuchElementException",
     "evalue": "Message: no such element: Unable to locate element: {\"method\":\"css selector\",\"selector\":\"#tabCon2 > ul > li:nth-child(8) > div:nth-child(1) > a\"}\n  (Session info: chrome=107.0.5304.107)\n",
     "output_type": "error",
     "traceback": [
      "\u001b[1;31m---------------------------------------------------------------------------\u001b[0m",
      "\u001b[1;31mNoSuchElementException\u001b[0m                    Traceback (most recent call last)",
      "\u001b[1;32mc:\\Users\\alllh\\Documents\\Git\\22_hf342\\develop\\data_process\\auto_download_detail_id.ipynb 셀 3\u001b[0m in \u001b[0;36m<cell line: 2>\u001b[1;34m()\u001b[0m\n\u001b[0;32m      <a href='vscode-notebook-cell:/c%3A/Users/alllh/Documents/Git/22_hf342/develop/data_process/auto_download_detail_id.ipynb#W2sZmlsZQ%3D%3D?line=4'>5</a>\u001b[0m sleep(\u001b[39m1.5\u001b[39m)\n\u001b[0;32m      <a href='vscode-notebook-cell:/c%3A/Users/alllh/Documents/Git/22_hf342/develop/data_process/auto_download_detail_id.ipynb#W2sZmlsZQ%3D%3D?line=5'>6</a>\u001b[0m \u001b[39mfor\u001b[39;00m j \u001b[39min\u001b[39;00m \u001b[39mrange\u001b[39m(\u001b[39m10\u001b[39m):  \u001b[39m# 목록에 띄워진 10개의 여행지에 대한 반복문\u001b[39;00m\n\u001b[0;32m      <a href='vscode-notebook-cell:/c%3A/Users/alllh/Documents/Git/22_hf342/develop/data_process/auto_download_detail_id.ipynb#W2sZmlsZQ%3D%3D?line=6'>7</a>\u001b[0m     \u001b[39m# 목록에 띄워진 여행지들 순서대로 클릭\u001b[39;00m\n\u001b[1;32m----> <a href='vscode-notebook-cell:/c%3A/Users/alllh/Documents/Git/22_hf342/develop/data_process/auto_download_detail_id.ipynb#W2sZmlsZQ%3D%3D?line=7'>8</a>\u001b[0m     dest \u001b[39m=\u001b[39m driver\u001b[39m.\u001b[39;49mfind_element_by_css_selector(\u001b[39mf\u001b[39;49m\u001b[39m'\u001b[39;49m\u001b[39m#tabCon2 > ul > li:nth-child(\u001b[39;49m\u001b[39m{\u001b[39;49;00mj\u001b[39m+\u001b[39;49m\u001b[39m1\u001b[39;49m\u001b[39m}\u001b[39;49;00m\u001b[39m) > div:nth-child(1) > a\u001b[39;49m\u001b[39m'\u001b[39;49m)\n\u001b[0;32m      <a href='vscode-notebook-cell:/c%3A/Users/alllh/Documents/Git/22_hf342/develop/data_process/auto_download_detail_id.ipynb#W2sZmlsZQ%3D%3D?line=8'>9</a>\u001b[0m     \u001b[39mid\u001b[39m \u001b[39m=\u001b[39m dest\u001b[39m.\u001b[39mget_attribute(\u001b[39m\"\u001b[39m\u001b[39mhref\u001b[39m\u001b[39m\"\u001b[39m)\u001b[39m.\u001b[39msplit(\u001b[39m'\u001b[39m\u001b[39m=\u001b[39m\u001b[39m'\u001b[39m)[\u001b[39m-\u001b[39m\u001b[39m1\u001b[39m]\n\u001b[0;32m     <a href='vscode-notebook-cell:/c%3A/Users/alllh/Documents/Git/22_hf342/develop/data_process/auto_download_detail_id.ipynb#W2sZmlsZQ%3D%3D?line=9'>10</a>\u001b[0m     dest \u001b[39m=\u001b[39m dest\u001b[39m.\u001b[39mget_attribute(\u001b[39m\"\u001b[39m\u001b[39minnerText\u001b[39m\u001b[39m\"\u001b[39m)\n",
      "File \u001b[1;32mc:\\Users\\alllh\\Anaconda3\\envs\\kcw\\lib\\site-packages\\selenium\\webdriver\\remote\\webdriver.py:598\u001b[0m, in \u001b[0;36mWebDriver.find_element_by_css_selector\u001b[1;34m(self, css_selector)\u001b[0m\n\u001b[0;32m    582\u001b[0m \u001b[39mdef\u001b[39;00m \u001b[39mfind_element_by_css_selector\u001b[39m(\u001b[39mself\u001b[39m, css_selector):\n\u001b[0;32m    583\u001b[0m     \u001b[39m\"\"\"\u001b[39;00m\n\u001b[0;32m    584\u001b[0m \u001b[39m    Finds an element by css selector.\u001b[39;00m\n\u001b[0;32m    585\u001b[0m \n\u001b[1;32m   (...)\u001b[0m\n\u001b[0;32m    596\u001b[0m \u001b[39m        element = driver.find_element_by_css_selector('#foo')\u001b[39;00m\n\u001b[0;32m    597\u001b[0m \u001b[39m    \"\"\"\u001b[39;00m\n\u001b[1;32m--> 598\u001b[0m     \u001b[39mreturn\u001b[39;00m \u001b[39mself\u001b[39;49m\u001b[39m.\u001b[39;49mfind_element(by\u001b[39m=\u001b[39;49mBy\u001b[39m.\u001b[39;49mCSS_SELECTOR, value\u001b[39m=\u001b[39;49mcss_selector)\n",
      "File \u001b[1;32mc:\\Users\\alllh\\Anaconda3\\envs\\kcw\\lib\\site-packages\\selenium\\webdriver\\remote\\webdriver.py:976\u001b[0m, in \u001b[0;36mWebDriver.find_element\u001b[1;34m(self, by, value)\u001b[0m\n\u001b[0;32m    974\u001b[0m         by \u001b[39m=\u001b[39m By\u001b[39m.\u001b[39mCSS_SELECTOR\n\u001b[0;32m    975\u001b[0m         value \u001b[39m=\u001b[39m \u001b[39m'\u001b[39m\u001b[39m[name=\u001b[39m\u001b[39m\"\u001b[39m\u001b[39m%s\u001b[39;00m\u001b[39m\"\u001b[39m\u001b[39m]\u001b[39m\u001b[39m'\u001b[39m \u001b[39m%\u001b[39m value\n\u001b[1;32m--> 976\u001b[0m \u001b[39mreturn\u001b[39;00m \u001b[39mself\u001b[39;49m\u001b[39m.\u001b[39;49mexecute(Command\u001b[39m.\u001b[39;49mFIND_ELEMENT, {\n\u001b[0;32m    977\u001b[0m     \u001b[39m'\u001b[39;49m\u001b[39musing\u001b[39;49m\u001b[39m'\u001b[39;49m: by,\n\u001b[0;32m    978\u001b[0m     \u001b[39m'\u001b[39;49m\u001b[39mvalue\u001b[39;49m\u001b[39m'\u001b[39;49m: value})[\u001b[39m'\u001b[39m\u001b[39mvalue\u001b[39m\u001b[39m'\u001b[39m]\n",
      "File \u001b[1;32mc:\\Users\\alllh\\Anaconda3\\envs\\kcw\\lib\\site-packages\\selenium\\webdriver\\remote\\webdriver.py:321\u001b[0m, in \u001b[0;36mWebDriver.execute\u001b[1;34m(self, driver_command, params)\u001b[0m\n\u001b[0;32m    319\u001b[0m response \u001b[39m=\u001b[39m \u001b[39mself\u001b[39m\u001b[39m.\u001b[39mcommand_executor\u001b[39m.\u001b[39mexecute(driver_command, params)\n\u001b[0;32m    320\u001b[0m \u001b[39mif\u001b[39;00m response:\n\u001b[1;32m--> 321\u001b[0m     \u001b[39mself\u001b[39;49m\u001b[39m.\u001b[39;49merror_handler\u001b[39m.\u001b[39;49mcheck_response(response)\n\u001b[0;32m    322\u001b[0m     response[\u001b[39m'\u001b[39m\u001b[39mvalue\u001b[39m\u001b[39m'\u001b[39m] \u001b[39m=\u001b[39m \u001b[39mself\u001b[39m\u001b[39m.\u001b[39m_unwrap_value(\n\u001b[0;32m    323\u001b[0m         response\u001b[39m.\u001b[39mget(\u001b[39m'\u001b[39m\u001b[39mvalue\u001b[39m\u001b[39m'\u001b[39m, \u001b[39mNone\u001b[39;00m))\n\u001b[0;32m    324\u001b[0m     \u001b[39mreturn\u001b[39;00m response\n",
      "File \u001b[1;32mc:\\Users\\alllh\\Anaconda3\\envs\\kcw\\lib\\site-packages\\selenium\\webdriver\\remote\\errorhandler.py:242\u001b[0m, in \u001b[0;36mErrorHandler.check_response\u001b[1;34m(self, response)\u001b[0m\n\u001b[0;32m    240\u001b[0m         alert_text \u001b[39m=\u001b[39m value[\u001b[39m'\u001b[39m\u001b[39malert\u001b[39m\u001b[39m'\u001b[39m]\u001b[39m.\u001b[39mget(\u001b[39m'\u001b[39m\u001b[39mtext\u001b[39m\u001b[39m'\u001b[39m)\n\u001b[0;32m    241\u001b[0m     \u001b[39mraise\u001b[39;00m exception_class(message, screen, stacktrace, alert_text)\n\u001b[1;32m--> 242\u001b[0m \u001b[39mraise\u001b[39;00m exception_class(message, screen, stacktrace)\n",
      "\u001b[1;31mNoSuchElementException\u001b[0m: Message: no such element: Unable to locate element: {\"method\":\"css selector\",\"selector\":\"#tabCon2 > ul > li:nth-child(8) > div:nth-child(1) > a\"}\n  (Session info: chrome=107.0.5304.107)\n"
     ]
    }
   ],
   "source": [
    "res = {}\n",
    "for times in range(25):  # 장에 대한 반복문(10페이지씩 10장)\n",
    "    sleep(1.5)\n",
    "    for i in range(10):  # 페이지에 대한 반복문(10페이지 보고 다음 10페이지 반복)\n",
    "        sleep(1.5)\n",
    "        for j in range(10):  # 목록에 띄워진 10개의 여행지에 대한 반복문\n",
    "            # 목록에 띄워진 여행지들 순서대로 클릭\n",
    "            dest = driver.find_element_by_css_selector(f'#tabCon2 > ul > li:nth-child({j+1}) > div:nth-child(1) > a')\n",
    "            id = dest.get_attribute(\"href\").split('=')[-1]\n",
    "            dest = dest.get_attribute(\"innerText\")\n",
    "            res.setdefault(dest, 0)\n",
    "            res[dest] = id\n",
    "        if i != 9:\n",
    "            # 다음 페이지로 옮기기\n",
    "            driver.find_element_by_css_selector(f'#tabCon2 > div.paging.mt55 > a:nth-child({i+4})').click()\n",
    "        elif i == 9:\n",
    "            # 만약 10페이지라면 다음 장으로 옮기기\n",
    "            driver.find_element_by_css_selector('#tabCon2 > div.paging.mt55 > a.table-forward').click()\n",
    "    res, len(res)"
   ]
  },
  {
   "cell_type": "code",
   "execution_count": 16,
   "metadata": {},
   "outputs": [
    {
     "data": {
      "text/html": [
       "<div>\n",
       "<style scoped>\n",
       "    .dataframe tbody tr th:only-of-type {\n",
       "        vertical-align: middle;\n",
       "    }\n",
       "\n",
       "    .dataframe tbody tr th {\n",
       "        vertical-align: top;\n",
       "    }\n",
       "\n",
       "    .dataframe thead th {\n",
       "        text-align: right;\n",
       "    }\n",
       "</style>\n",
       "<table border=\"1\" class=\"dataframe\">\n",
       "  <thead>\n",
       "    <tr style=\"text-align: right;\">\n",
       "      <th></th>\n",
       "      <th>destination</th>\n",
       "      <th>id</th>\n",
       "    </tr>\n",
       "  </thead>\n",
       "  <tbody>\n",
       "    <tr>\n",
       "      <th>0</th>\n",
       "      <td>덕포해수욕장</td>\n",
       "      <td>127939</td>\n",
       "    </tr>\n",
       "    <tr>\n",
       "      <th>1</th>\n",
       "      <td>백천사(사천)</td>\n",
       "      <td>127796</td>\n",
       "    </tr>\n",
       "    <tr>\n",
       "      <th>2</th>\n",
       "      <td>달실마을</td>\n",
       "      <td>127035</td>\n",
       "    </tr>\n",
       "    <tr>\n",
       "      <th>3</th>\n",
       "      <td>설악워터피아</td>\n",
       "      <td>126714</td>\n",
       "    </tr>\n",
       "    <tr>\n",
       "      <th>4</th>\n",
       "      <td>이호테우해변</td>\n",
       "      <td>126448</td>\n",
       "    </tr>\n",
       "    <tr>\n",
       "      <th>...</th>\n",
       "      <td>...</td>\n",
       "      <td>...</td>\n",
       "    </tr>\n",
       "    <tr>\n",
       "      <th>2492</th>\n",
       "      <td>연미사(안동)</td>\n",
       "      <td>337501</td>\n",
       "    </tr>\n",
       "    <tr>\n",
       "      <th>2493</th>\n",
       "      <td>광덕사</td>\n",
       "      <td>298084</td>\n",
       "    </tr>\n",
       "    <tr>\n",
       "      <th>2494</th>\n",
       "      <td>익산교도소세트장</td>\n",
       "      <td>2594360</td>\n",
       "    </tr>\n",
       "    <tr>\n",
       "      <th>2495</th>\n",
       "      <td>양양지(위양못)</td>\n",
       "      <td>2545984</td>\n",
       "    </tr>\n",
       "    <tr>\n",
       "      <th>2496</th>\n",
       "      <td>자연아놀자 체험학습박물관</td>\n",
       "      <td>2398333</td>\n",
       "    </tr>\n",
       "  </tbody>\n",
       "</table>\n",
       "<p>2497 rows × 2 columns</p>\n",
       "</div>"
      ],
      "text/plain": [
       "        destination       id\n",
       "0            덕포해수욕장   127939\n",
       "1           백천사(사천)   127796\n",
       "2              달실마을   127035\n",
       "3            설악워터피아   126714\n",
       "4            이호테우해변   126448\n",
       "...             ...      ...\n",
       "2492        연미사(안동)   337501\n",
       "2493            광덕사   298084\n",
       "2494       익산교도소세트장  2594360\n",
       "2495       양양지(위양못)  2545984\n",
       "2496  자연아놀자 체험학습박물관  2398333\n",
       "\n",
       "[2497 rows x 2 columns]"
      ]
     },
     "execution_count": 16,
     "metadata": {},
     "output_type": "execute_result"
    }
   ],
   "source": [
    "import pandas as pd\n",
    "df = pd.DataFrame(res, index=[0]).T.reset_index(drop=False)\n",
    "df.columns = (\"destination\", \"id\")\n",
    "df"
   ]
  },
  {
   "cell_type": "code",
   "execution_count": 17,
   "metadata": {},
   "outputs": [],
   "source": [
    "df.to_csv(\"output/dest_id.csv\", index=False)"
   ]
  },
  {
   "cell_type": "code",
   "execution_count": null,
   "metadata": {},
   "outputs": [],
   "source": []
  }
 ],
 "metadata": {
  "kernelspec": {
   "display_name": "Python 3.10.4 ('kcw')",
   "language": "python",
   "name": "python3"
  },
  "language_info": {
   "codemirror_mode": {
    "name": "ipython",
    "version": 3
   },
   "file_extension": ".py",
   "mimetype": "text/x-python",
   "name": "python",
   "nbconvert_exporter": "python",
   "pygments_lexer": "ipython3",
   "version": "3.10.4"
  },
  "orig_nbformat": 4,
  "vscode": {
   "interpreter": {
    "hash": "ff03da73fdb925b7ead87efd6025f03aa3d83597b98b999789e04333f0946b01"
   }
  }
 },
 "nbformat": 4,
 "nbformat_minor": 2
}
